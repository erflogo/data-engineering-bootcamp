{
 "cells": [
  {
   "cell_type": "code",
   "execution_count": 20,
   "metadata": {},
   "outputs": [],
   "source": [
    "import pandas as pd\n",
    "\n",
    "df = pd.read_csv('data/all_data.csv',usecols=['producto','cadenaComercial','estado'])"
   ]
  },
  {
   "cell_type": "markdown",
   "metadata": {},
   "source": [
    "# How many commercial chains are monitored, and therefore, included in this database?"
   ]
  },
  {
   "cell_type": "code",
   "execution_count": 21,
   "metadata": {},
   "outputs": [
    {
     "data": {
      "text/plain": [
       "705"
      ]
     },
     "execution_count": 21,
     "metadata": {},
     "output_type": "execute_result"
    }
   ],
   "source": [
    "df.cadenaComercial.nunique()"
   ]
  },
  {
   "cell_type": "markdown",
   "metadata": {},
   "source": [
    "# What are the top 10 monitored products by State?"
   ]
  },
  {
   "cell_type": "code",
   "execution_count": 22,
   "metadata": {},
   "outputs": [
    {
     "data": {
      "text/html": [
       "<div>\n",
       "<style scoped>\n",
       "    .dataframe tbody tr th:only-of-type {\n",
       "        vertical-align: middle;\n",
       "    }\n",
       "\n",
       "    .dataframe tbody tr th {\n",
       "        vertical-align: top;\n",
       "    }\n",
       "\n",
       "    .dataframe thead th {\n",
       "        text-align: right;\n",
       "    }\n",
       "</style>\n",
       "<table border=\"1\" class=\"dataframe\">\n",
       "  <thead>\n",
       "    <tr style=\"text-align: right;\">\n",
       "      <th></th>\n",
       "      <th></th>\n",
       "      <th>products_number</th>\n",
       "    </tr>\n",
       "    <tr>\n",
       "      <th>estado</th>\n",
       "      <th>producto</th>\n",
       "      <th></th>\n",
       "    </tr>\n",
       "  </thead>\n",
       "  <tbody>\n",
       "    <tr>\n",
       "      <th>estado</th>\n",
       "      <th>producto</th>\n",
       "      <td>20</td>\n",
       "    </tr>\n",
       "    <tr>\n",
       "      <th rowspan=\"10\" valign=\"top\">ZACATECAS</th>\n",
       "      <th>DETERGENTE P/ROPA</th>\n",
       "      <td>20884</td>\n",
       "    </tr>\n",
       "    <tr>\n",
       "      <th>LECHE ULTRAPASTEURIZADA</th>\n",
       "      <td>17309</td>\n",
       "    </tr>\n",
       "    <tr>\n",
       "      <th>LAVADORAS</th>\n",
       "      <td>16072</td>\n",
       "    </tr>\n",
       "    <tr>\n",
       "      <th>MAYONESA</th>\n",
       "      <td>15927</td>\n",
       "    </tr>\n",
       "    <tr>\n",
       "      <th>JABON DE TOCADOR</th>\n",
       "      <td>15926</td>\n",
       "    </tr>\n",
       "    <tr>\n",
       "      <th>FUD</th>\n",
       "      <td>15541</td>\n",
       "    </tr>\n",
       "    <tr>\n",
       "      <th>SHAMPOO</th>\n",
       "      <td>15012</td>\n",
       "    </tr>\n",
       "    <tr>\n",
       "      <th>CHILES EN LATA</th>\n",
       "      <td>14866</td>\n",
       "    </tr>\n",
       "    <tr>\n",
       "      <th>COMPONENTES DE AUDIO</th>\n",
       "      <td>14799</td>\n",
       "    </tr>\n",
       "    <tr>\n",
       "      <th>REFRESCO</th>\n",
       "      <td>13925</td>\n",
       "    </tr>\n",
       "    <tr>\n",
       "      <th rowspan=\"10\" valign=\"top\">YUCATÁN</th>\n",
       "      <th>LECHE ULTRAPASTEURIZADA</th>\n",
       "      <td>35991</td>\n",
       "    </tr>\n",
       "    <tr>\n",
       "      <th>DETERGENTE P/ROPA</th>\n",
       "      <td>33390</td>\n",
       "    </tr>\n",
       "    <tr>\n",
       "      <th>REFRESCO</th>\n",
       "      <td>33235</td>\n",
       "    </tr>\n",
       "    <tr>\n",
       "      <th>FUD</th>\n",
       "      <td>31885</td>\n",
       "    </tr>\n",
       "    <tr>\n",
       "      <th>LAVADORAS</th>\n",
       "      <td>27013</td>\n",
       "    </tr>\n",
       "    <tr>\n",
       "      <th>CHILES EN LATA</th>\n",
       "      <td>24472</td>\n",
       "    </tr>\n",
       "    <tr>\n",
       "      <th>MAYONESA</th>\n",
       "      <td>23629</td>\n",
       "    </tr>\n",
       "    <tr>\n",
       "      <th>SHAMPOO</th>\n",
       "      <td>23433</td>\n",
       "    </tr>\n",
       "    <tr>\n",
       "      <th>PLANCHAS</th>\n",
       "      <td>22816</td>\n",
       "    </tr>\n",
       "    <tr>\n",
       "      <th>LECHE EN POLVO</th>\n",
       "      <td>22696</td>\n",
       "    </tr>\n",
       "    <tr>\n",
       "      <th rowspan=\"9\" valign=\"top\">VERACRUZ DE IGNACIO DE LA LLAVE</th>\n",
       "      <th>REFRESCO</th>\n",
       "      <td>14576</td>\n",
       "    </tr>\n",
       "    <tr>\n",
       "      <th>LECHE ULTRAPASTEURIZADA</th>\n",
       "      <td>12051</td>\n",
       "    </tr>\n",
       "    <tr>\n",
       "      <th>DETERGENTE P/ROPA</th>\n",
       "      <td>10345</td>\n",
       "    </tr>\n",
       "    <tr>\n",
       "      <th>FUD</th>\n",
       "      <td>9482</td>\n",
       "    </tr>\n",
       "    <tr>\n",
       "      <th>LAVADORAS</th>\n",
       "      <td>9231</td>\n",
       "    </tr>\n",
       "    <tr>\n",
       "      <th>SHAMPOO</th>\n",
       "      <td>8830</td>\n",
       "    </tr>\n",
       "    <tr>\n",
       "      <th>JABON DE TOCADOR</th>\n",
       "      <td>8405</td>\n",
       "    </tr>\n",
       "    <tr>\n",
       "      <th>DESODORANTE</th>\n",
       "      <td>8213</td>\n",
       "    </tr>\n",
       "    <tr>\n",
       "      <th>PANTALLAS</th>\n",
       "      <td>7814</td>\n",
       "    </tr>\n",
       "    <tr>\n",
       "      <th>...</th>\n",
       "      <th>...</th>\n",
       "      <td>...</td>\n",
       "    </tr>\n",
       "    <tr>\n",
       "      <th rowspan=\"10\" valign=\"top\">BAJA CALIFORNIA SUR</th>\n",
       "      <th>REFRESCO</th>\n",
       "      <td>27770</td>\n",
       "    </tr>\n",
       "    <tr>\n",
       "      <th>FUD</th>\n",
       "      <td>17776</td>\n",
       "    </tr>\n",
       "    <tr>\n",
       "      <th>PANTALLAS</th>\n",
       "      <td>17383</td>\n",
       "    </tr>\n",
       "    <tr>\n",
       "      <th>DETERGENTE P/ROPA</th>\n",
       "      <td>15510</td>\n",
       "    </tr>\n",
       "    <tr>\n",
       "      <th>LAVADORAS</th>\n",
       "      <td>13242</td>\n",
       "    </tr>\n",
       "    <tr>\n",
       "      <th>SHAMPOO</th>\n",
       "      <td>12844</td>\n",
       "    </tr>\n",
       "    <tr>\n",
       "      <th>JABON DE TOCADOR</th>\n",
       "      <td>12799</td>\n",
       "    </tr>\n",
       "    <tr>\n",
       "      <th>CHILES EN LATA</th>\n",
       "      <td>11537</td>\n",
       "    </tr>\n",
       "    <tr>\n",
       "      <th>PLANCHAS</th>\n",
       "      <td>11301</td>\n",
       "    </tr>\n",
       "    <tr>\n",
       "      <th>COMPONENTES DE AUDIO</th>\n",
       "      <td>11036</td>\n",
       "    </tr>\n",
       "    <tr>\n",
       "      <th rowspan=\"10\" valign=\"top\">BAJA CALIFORNIA</th>\n",
       "      <th>REFRESCO</th>\n",
       "      <td>37243</td>\n",
       "    </tr>\n",
       "    <tr>\n",
       "      <th>DETERGENTE P/ROPA</th>\n",
       "      <td>23395</td>\n",
       "    </tr>\n",
       "    <tr>\n",
       "      <th>FUD</th>\n",
       "      <td>19967</td>\n",
       "    </tr>\n",
       "    <tr>\n",
       "      <th>SHAMPOO</th>\n",
       "      <td>19123</td>\n",
       "    </tr>\n",
       "    <tr>\n",
       "      <th>JABON DE TOCADOR</th>\n",
       "      <td>18348</td>\n",
       "    </tr>\n",
       "    <tr>\n",
       "      <th>CHILES EN LATA</th>\n",
       "      <td>16676</td>\n",
       "    </tr>\n",
       "    <tr>\n",
       "      <th>GALLETAS</th>\n",
       "      <td>15873</td>\n",
       "    </tr>\n",
       "    <tr>\n",
       "      <th>PANTALLAS</th>\n",
       "      <td>15703</td>\n",
       "    </tr>\n",
       "    <tr>\n",
       "      <th>CEREALES</th>\n",
       "      <td>15398</td>\n",
       "    </tr>\n",
       "    <tr>\n",
       "      <th>DESODORANTE</th>\n",
       "      <td>14748</td>\n",
       "    </tr>\n",
       "    <tr>\n",
       "      <th rowspan=\"10\" valign=\"top\">AGUASCALIENTES</th>\n",
       "      <th>FUD</th>\n",
       "      <td>12005</td>\n",
       "    </tr>\n",
       "    <tr>\n",
       "      <th>DETERGENTE P/ROPA</th>\n",
       "      <td>10188</td>\n",
       "    </tr>\n",
       "    <tr>\n",
       "      <th>LECHE ULTRAPASTEURIZADA</th>\n",
       "      <td>9824</td>\n",
       "    </tr>\n",
       "    <tr>\n",
       "      <th>SHAMPOO</th>\n",
       "      <td>9654</td>\n",
       "    </tr>\n",
       "    <tr>\n",
       "      <th>REFRESCO</th>\n",
       "      <td>9481</td>\n",
       "    </tr>\n",
       "    <tr>\n",
       "      <th>DESODORANTE</th>\n",
       "      <td>8859</td>\n",
       "    </tr>\n",
       "    <tr>\n",
       "      <th>JABON DE TOCADOR</th>\n",
       "      <td>8517</td>\n",
       "    </tr>\n",
       "    <tr>\n",
       "      <th>CHILES EN LATA</th>\n",
       "      <td>7946</td>\n",
       "    </tr>\n",
       "    <tr>\n",
       "      <th>YOGHURT</th>\n",
       "      <td>7401</td>\n",
       "    </tr>\n",
       "    <tr>\n",
       "      <th>MAYONESA</th>\n",
       "      <td>7173</td>\n",
       "    </tr>\n",
       "  </tbody>\n",
       "</table>\n",
       "<p>321 rows × 1 columns</p>\n",
       "</div>"
      ],
      "text/plain": [
       "                                                         products_number\n",
       "estado                          producto                                \n",
       "estado                          producto                              20\n",
       "ZACATECAS                       DETERGENTE P/ROPA                  20884\n",
       "                                LECHE ULTRAPASTEURIZADA            17309\n",
       "                                LAVADORAS                          16072\n",
       "                                MAYONESA                           15927\n",
       "                                JABON DE TOCADOR                   15926\n",
       "                                FUD                                15541\n",
       "                                SHAMPOO                            15012\n",
       "                                CHILES EN LATA                     14866\n",
       "                                COMPONENTES DE AUDIO               14799\n",
       "                                REFRESCO                           13925\n",
       "YUCATÁN                         LECHE ULTRAPASTEURIZADA            35991\n",
       "                                DETERGENTE P/ROPA                  33390\n",
       "                                REFRESCO                           33235\n",
       "                                FUD                                31885\n",
       "                                LAVADORAS                          27013\n",
       "                                CHILES EN LATA                     24472\n",
       "                                MAYONESA                           23629\n",
       "                                SHAMPOO                            23433\n",
       "                                PLANCHAS                           22816\n",
       "                                LECHE EN POLVO                     22696\n",
       "VERACRUZ DE IGNACIO DE LA LLAVE REFRESCO                           14576\n",
       "                                LECHE ULTRAPASTEURIZADA            12051\n",
       "                                DETERGENTE P/ROPA                  10345\n",
       "                                FUD                                 9482\n",
       "                                LAVADORAS                           9231\n",
       "                                SHAMPOO                             8830\n",
       "                                JABON DE TOCADOR                    8405\n",
       "                                DESODORANTE                         8213\n",
       "                                PANTALLAS                           7814\n",
       "...                                                                  ...\n",
       "BAJA CALIFORNIA SUR             REFRESCO                           27770\n",
       "                                FUD                                17776\n",
       "                                PANTALLAS                          17383\n",
       "                                DETERGENTE P/ROPA                  15510\n",
       "                                LAVADORAS                          13242\n",
       "                                SHAMPOO                            12844\n",
       "                                JABON DE TOCADOR                   12799\n",
       "                                CHILES EN LATA                     11537\n",
       "                                PLANCHAS                           11301\n",
       "                                COMPONENTES DE AUDIO               11036\n",
       "BAJA CALIFORNIA                 REFRESCO                           37243\n",
       "                                DETERGENTE P/ROPA                  23395\n",
       "                                FUD                                19967\n",
       "                                SHAMPOO                            19123\n",
       "                                JABON DE TOCADOR                   18348\n",
       "                                CHILES EN LATA                     16676\n",
       "                                GALLETAS                           15873\n",
       "                                PANTALLAS                          15703\n",
       "                                CEREALES                           15398\n",
       "                                DESODORANTE                        14748\n",
       "AGUASCALIENTES                  FUD                                12005\n",
       "                                DETERGENTE P/ROPA                  10188\n",
       "                                LECHE ULTRAPASTEURIZADA             9824\n",
       "                                SHAMPOO                             9654\n",
       "                                REFRESCO                            9481\n",
       "                                DESODORANTE                         8859\n",
       "                                JABON DE TOCADOR                    8517\n",
       "                                CHILES EN LATA                      7946\n",
       "                                YOGHURT                             7401\n",
       "                                MAYONESA                            7173\n",
       "\n",
       "[321 rows x 1 columns]"
      ]
     },
     "execution_count": 22,
     "metadata": {},
     "output_type": "execute_result"
    }
   ],
   "source": [
    "df.groupby(['estado', 'producto'])[['producto']].count().rename(columns={\"producto\": \"products_number\"}).sort_values(['estado','products_number'], ascending = False).groupby('estado').head(10)"
   ]
  },
  {
   "cell_type": "markdown",
   "metadata": {},
   "source": [
    "# Which is the commercial chain with the highest number of monitored products?"
   ]
  },
  {
   "cell_type": "markdown",
   "metadata": {},
   "source": [
    "## Unique products"
   ]
  },
  {
   "cell_type": "code",
   "execution_count": 23,
   "metadata": {},
   "outputs": [
    {
     "data": {
      "text/html": [
       "<div>\n",
       "<style scoped>\n",
       "    .dataframe tbody tr th:only-of-type {\n",
       "        vertical-align: middle;\n",
       "    }\n",
       "\n",
       "    .dataframe tbody tr th {\n",
       "        vertical-align: top;\n",
       "    }\n",
       "\n",
       "    .dataframe thead th {\n",
       "        text-align: right;\n",
       "    }\n",
       "</style>\n",
       "<table border=\"1\" class=\"dataframe\">\n",
       "  <thead>\n",
       "    <tr style=\"text-align: right;\">\n",
       "      <th></th>\n",
       "      <th>products_number</th>\n",
       "    </tr>\n",
       "    <tr>\n",
       "      <th>cadenaComercial</th>\n",
       "      <th></th>\n",
       "    </tr>\n",
       "  </thead>\n",
       "  <tbody>\n",
       "    <tr>\n",
       "      <th>SORIANA</th>\n",
       "      <td>1059</td>\n",
       "    </tr>\n",
       "  </tbody>\n",
       "</table>\n",
       "</div>"
      ],
      "text/plain": [
       "                 products_number\n",
       "cadenaComercial                 \n",
       "SORIANA                     1059"
      ]
     },
     "execution_count": 23,
     "metadata": {},
     "output_type": "execute_result"
    }
   ],
   "source": [
    "df.groupby('cadenaComercial')[['producto']].nunique().rename(columns={\"producto\": \"products_number\"}).sort_values(['products_number'], ascending = False).head(1)"
   ]
  },
  {
   "cell_type": "markdown",
   "metadata": {},
   "source": [
    "## Non unique products"
   ]
  },
  {
   "cell_type": "code",
   "execution_count": 24,
   "metadata": {},
   "outputs": [
    {
     "data": {
      "text/html": [
       "<div>\n",
       "<style scoped>\n",
       "    .dataframe tbody tr th:only-of-type {\n",
       "        vertical-align: middle;\n",
       "    }\n",
       "\n",
       "    .dataframe tbody tr th {\n",
       "        vertical-align: top;\n",
       "    }\n",
       "\n",
       "    .dataframe thead th {\n",
       "        text-align: right;\n",
       "    }\n",
       "</style>\n",
       "<table border=\"1\" class=\"dataframe\">\n",
       "  <thead>\n",
       "    <tr style=\"text-align: right;\">\n",
       "      <th></th>\n",
       "      <th>products_number</th>\n",
       "    </tr>\n",
       "    <tr>\n",
       "      <th>cadenaComercial</th>\n",
       "      <th></th>\n",
       "    </tr>\n",
       "  </thead>\n",
       "  <tbody>\n",
       "    <tr>\n",
       "      <th>WAL-MART</th>\n",
       "      <td>8643133</td>\n",
       "    </tr>\n",
       "  </tbody>\n",
       "</table>\n",
       "</div>"
      ],
      "text/plain": [
       "                 products_number\n",
       "cadenaComercial                 \n",
       "WAL-MART                 8643133"
      ]
     },
     "execution_count": 24,
     "metadata": {},
     "output_type": "execute_result"
    }
   ],
   "source": [
    "df.groupby('cadenaComercial')[['producto']].count().rename(columns={\"producto\": \"products_number\"}).sort_values(['products_number'], ascending = False).head(1)"
   ]
  },
  {
   "cell_type": "markdown",
   "metadata": {},
   "source": [
    "# Use the data to find an interesting fact."
   ]
  },
  {
   "cell_type": "markdown",
   "metadata": {},
   "source": [
    "## The state with more monitored unique products is:"
   ]
  },
  {
   "cell_type": "code",
   "execution_count": 25,
   "metadata": {},
   "outputs": [
    {
     "data": {
      "text/html": [
       "<div>\n",
       "<style scoped>\n",
       "    .dataframe tbody tr th:only-of-type {\n",
       "        vertical-align: middle;\n",
       "    }\n",
       "\n",
       "    .dataframe tbody tr th {\n",
       "        vertical-align: top;\n",
       "    }\n",
       "\n",
       "    .dataframe thead th {\n",
       "        text-align: right;\n",
       "    }\n",
       "</style>\n",
       "<table border=\"1\" class=\"dataframe\">\n",
       "  <thead>\n",
       "    <tr style=\"text-align: right;\">\n",
       "      <th></th>\n",
       "      <th>products_number</th>\n",
       "    </tr>\n",
       "    <tr>\n",
       "      <th>estado</th>\n",
       "      <th></th>\n",
       "    </tr>\n",
       "  </thead>\n",
       "  <tbody>\n",
       "    <tr>\n",
       "      <th>MÉXICO</th>\n",
       "      <td>1068</td>\n",
       "    </tr>\n",
       "  </tbody>\n",
       "</table>\n",
       "</div>"
      ],
      "text/plain": [
       "        products_number\n",
       "estado                 \n",
       "MÉXICO             1068"
      ]
     },
     "execution_count": 25,
     "metadata": {},
     "output_type": "execute_result"
    }
   ],
   "source": [
    "df.groupby('estado')[['producto']].nunique().rename(columns={\"producto\": \"products_number\"}).sort_values('products_number', ascending = False).head(1)"
   ]
  },
  {
   "cell_type": "markdown",
   "metadata": {},
   "source": [
    "# What are the lessons learned from this exercise?"
   ]
  },
  {
   "cell_type": "code",
   "execution_count": 28,
   "metadata": {},
   "outputs": [],
   "source": [
    "#1. We do not have to load the whole file all the time. Sometimes, we can just figure out which columns we are going to use and we can save time.\n",
    "#2. \"Count distinct\" operations (nunique) are very expensive functions.\n",
    "#3. It is better to handle large files in Cloud infrastructures instead of On Premise."
   ]
  },
  {
   "cell_type": "markdown",
   "metadata": {},
   "source": [
    "# Can you identify other ways to approach this problem? Explain."
   ]
  },
  {
   "cell_type": "code",
   "execution_count": 30,
   "metadata": {
    "collapsed": true
   },
   "outputs": [
    {
     "data": {
      "text/plain": [
       "'\\nHere is one option:\\n1. Load this file in a Data Lake like Cloud Storage.\\n2. Process the file with Python and Apache Beam.\\n3. Deploy this pipeline in technologies like Dataflow, Spark or Flik.\\n'"
      ]
     },
     "execution_count": 30,
     "metadata": {},
     "output_type": "execute_result"
    }
   ],
   "source": [
    "'''\n",
    "Here is one option:\n",
    "1. Load this file in a Data Lake like Cloud Storage.\n",
    "2. Process the file with Python and Apache Beam.\n",
    "3. Deploy this pipeline in technologies like Dataflow, Spark or Flink.\n",
    "4. Move the processed information to a Data Warehouse like BigQuery.\n",
    "'''"
   ]
  },
  {
   "cell_type": "code",
   "execution_count": null,
   "metadata": {},
   "outputs": [],
   "source": []
  }
 ],
 "metadata": {
  "kernelspec": {
   "display_name": "Python 3",
   "language": "python",
   "name": "python3"
  },
  "language_info": {
   "codemirror_mode": {
    "name": "ipython",
    "version": 3
   },
   "file_extension": ".py",
   "mimetype": "text/x-python",
   "name": "python",
   "nbconvert_exporter": "python",
   "pygments_lexer": "ipython3",
   "version": "3.7.1"
  }
 },
 "nbformat": 4,
 "nbformat_minor": 2
}
